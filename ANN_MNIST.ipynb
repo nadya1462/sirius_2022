{
  "nbformat": 4,
  "nbformat_minor": 0,
  "metadata": {
    "colab": {
      "name": "ANN_MNIST.ipynb",
      "provenance": [],
      "collapsed_sections": [],
      "authorship_tag": "ABX9TyPA9uOx1TMUV4DltSB42XU7",
      "include_colab_link": true
    },
    "kernelspec": {
      "name": "python3",
      "display_name": "Python 3"
    },
    "language_info": {
      "name": "python"
    }
  },
  "cells": [
    {
      "cell_type": "markdown",
      "metadata": {
        "id": "view-in-github",
        "colab_type": "text"
      },
      "source": [
        "<a href=\"https://colab.research.google.com/github/nadya1462/sirius_2022/blob/main/ANN_MNIST.ipynb\" target=\"_parent\"><img src=\"https://colab.research.google.com/assets/colab-badge.svg\" alt=\"Open In Colab\"/></a>"
      ]
    },
    {
      "cell_type": "markdown",
      "source": [
        "###Import packages"
      ],
      "metadata": {
        "id": "DUOaTRXEs8zX"
      }
    },
    {
      "cell_type": "code",
      "execution_count": 144,
      "metadata": {
        "id": "FhUxHJB8rTqX"
      },
      "outputs": [],
      "source": [
        "import numpy as np\n",
        "import matplotlib.pyplot as plt\n",
        "from tensorflow import keras\n",
        "from tensorflow.keras.datasets import mnist      \n",
        "from tensorflow.keras.layers import Dense, Flatten\n",
        "from sklearn.metrics import confusion_matrix\n",
        "import seaborn as sns\n",
        "%matplotlib inline"
      ]
    },
    {
      "cell_type": "markdown",
      "source": [
        "###MNIST loading and standartization \n",
        "\n",
        "MNIST info:\n",
        "*   70k pictures of 28*28 pixels (60k - for training, 10k - for testing)\n",
        "*   grayscale: 0 - black, 255 - white"
      ],
      "metadata": {
        "id": "WHUziRA3tEiA"
      }
    },
    {
      "cell_type": "code",
      "source": [
        "(x_train, y_train), (x_test, y_test) = mnist.load_data() \n",
        "\n",
        "x_train = x_train / 255\n",
        "x_test = x_test / 255\n",
        "\n",
        "y_train_cat = keras.utils.to_categorical(y_train, 10)\n",
        "y_test_cat = keras.utils.to_categorical(y_test, 10)"
      ],
      "metadata": {
        "id": "l6zVHRBSsetX"
      },
      "execution_count": 145,
      "outputs": []
    },
    {
      "cell_type": "markdown",
      "source": [
        "###Creating the model"
      ],
      "metadata": {
        "id": "zOjrhuY3tNLl"
      }
    },
    {
      "cell_type": "code",
      "source": [
        "model = keras.Sequential([Flatten(input_shape = (28, 28, 1)), # 1st layer\n",
        "                          Dense(120, activation = 'relu'), # hidden layer\n",
        "                          Dense(10, activation = 'softmax')]) # output layer \n",
        "\n",
        "print(model.summary())  "
      ],
      "metadata": {
        "colab": {
          "base_uri": "https://localhost:8080/"
        },
        "id": "dNBQafJWsWWM",
        "outputId": "81e94848-96e4-42ba-82ac-c7f7360c1d76"
      },
      "execution_count": 146,
      "outputs": [
        {
          "output_type": "stream",
          "name": "stdout",
          "text": [
            "Model: \"sequential_12\"\n",
            "_________________________________________________________________\n",
            " Layer (type)                Output Shape              Param #   \n",
            "=================================================================\n",
            " flatten_12 (Flatten)        (None, 784)               0         \n",
            "                                                                 \n",
            " dense_24 (Dense)            (None, 120)               94200     \n",
            "                                                                 \n",
            " dense_25 (Dense)            (None, 10)                1210      \n",
            "                                                                 \n",
            "=================================================================\n",
            "Total params: 95,410\n",
            "Trainable params: 95,410\n",
            "Non-trainable params: 0\n",
            "_________________________________________________________________\n",
            "None\n"
          ]
        }
      ]
    },
    {
      "cell_type": "markdown",
      "source": [
        "###Network compilation"
      ],
      "metadata": {
        "id": "3IL4X-flUxYy"
      }
    },
    {
      "cell_type": "code",
      "source": [
        "model.compile(optimizer = 'adam',\n",
        "             loss = 'categorical_crossentropy',\n",
        "             metrics = ['accuracy'])"
      ],
      "metadata": {
        "id": "5rfGy_9MT_mG"
      },
      "execution_count": 147,
      "outputs": []
    },
    {
      "cell_type": "markdown",
      "source": [
        "###Training"
      ],
      "metadata": {
        "id": "MCrKbcIDtTHg"
      }
    },
    {
      "cell_type": "code",
      "source": [
        "history = model.fit(x_train, y_train_cat, batch_size = 32, epochs = 5, validation_split = 0.2)"
      ],
      "metadata": {
        "colab": {
          "base_uri": "https://localhost:8080/"
        },
        "id": "TpJ8LPIFtSVG",
        "outputId": "d0a963b2-8ce4-4df6-bf4a-6110dc031ed3"
      },
      "execution_count": 148,
      "outputs": [
        {
          "output_type": "stream",
          "name": "stdout",
          "text": [
            "Epoch 1/5\n",
            "1500/1500 [==============================] - 5s 3ms/step - loss: 0.7151 - accuracy: 0.8256 - val_loss: 0.3763 - val_accuracy: 0.8972\n",
            "Epoch 2/5\n",
            "1500/1500 [==============================] - 4s 2ms/step - loss: 0.3594 - accuracy: 0.9009 - val_loss: 0.3081 - val_accuracy: 0.9158\n",
            "Epoch 3/5\n",
            "1500/1500 [==============================] - 4s 3ms/step - loss: 0.3074 - accuracy: 0.9129 - val_loss: 0.2741 - val_accuracy: 0.9244\n",
            "Epoch 4/5\n",
            "1500/1500 [==============================] - 4s 3ms/step - loss: 0.2763 - accuracy: 0.9223 - val_loss: 0.2517 - val_accuracy: 0.9293\n",
            "Epoch 5/5\n",
            "1500/1500 [==============================] - 4s 2ms/step - loss: 0.2530 - accuracy: 0.9283 - val_loss: 0.2345 - val_accuracy: 0.9348\n"
          ]
        }
      ]
    },
    {
      "cell_type": "code",
      "source": [
        "plt.plot(history.history['loss'])\n",
        "plt.grid()\n",
        "plt.xlabel('Epoch')\n",
        "plt.ylabel('Loss function')"
      ],
      "metadata": {
        "colab": {
          "base_uri": "https://localhost:8080/",
          "height": 297
        },
        "id": "6zCL8aF7HITe",
        "outputId": "4d8cfa12-ee4a-46fe-d947-3ad268782f97"
      },
      "execution_count": 149,
      "outputs": [
        {
          "output_type": "execute_result",
          "data": {
            "text/plain": [
              "Text(0, 0.5, 'Loss function')"
            ]
          },
          "metadata": {},
          "execution_count": 149
        },
        {
          "output_type": "display_data",
          "data": {
            "text/plain": [
              "<Figure size 432x288 with 1 Axes>"
            ],
            "image/png": "[encoded data removed]"
          },
          "metadata": {
            "needs_background": "light"
          }
        }
      ]
    },
    {
      "cell_type": "code",
      "source": [
        "plt.plot(history.history['accuracy'])\n",
        "plt.grid()\n",
        "plt.xlabel('Epoch')\n",
        "plt.ylabel('Accuracy')"
      ],
      "metadata": {
        "colab": {
          "base_uri": "https://localhost:8080/",
          "height": 297
        },
        "id": "kxolXo68IWYW",
        "outputId": "16b0939d-348f-4311-e3d1-99fafbecdeb0"
      },
      "execution_count": 150,
      "outputs": [
        {
          "output_type": "execute_result",
          "data": {
            "text/plain": [
              "Text(0, 0.5, 'Accuracy')"
            ]
          },
          "metadata": {},
          "execution_count": 150
        },
        {
          "output_type": "display_data",
          "data": {
            "text/plain": [
              "<Figure size 432x288 with 1 Axes>"
            ],
            "image/png": "[encoded data removed]"
          },
          "metadata": {
            "needs_background": "light"
          }
        }
      ]
    },
    {
      "cell_type": "markdown",
      "source": [
        "###Testing"
      ],
      "metadata": {
        "id": "uniPdTGLkxx1"
      }
    },
    {
      "cell_type": "code",
      "source": [
        "model.evaluate(x_test, y_test_cat)"
      ],
      "metadata": {
        "colab": {
          "base_uri": "https://localhost:8080/"
        },
        "id": "A1LQZV66ZI4s",
        "outputId": "5e38aeba-9bd8-477f-915a-c6bb10a8a56f"
      },
      "execution_count": 151,
      "outputs": [
        {
          "output_type": "stream",
          "name": "stdout",
          "text": [
            "313/313 [==============================] - 1s 2ms/step - loss: 0.2326 - accuracy: 0.9351\n"
          ]
        },
        {
          "output_type": "execute_result",
          "data": {
            "text/plain": [
              "[0.23262594640254974, 0.9351000189781189]"
            ]
          },
          "metadata": {},
          "execution_count": 151
        }
      ]
    },
    {
      "cell_type": "code",
      "source": [
        "pred_cat = model.predict(x_test)\n",
        "pred = np.argmax(pred_cat, 1)"
      ],
      "metadata": {
        "id": "A2TibOm_av4m"
      },
      "execution_count": 152,
      "outputs": []
    },
    {
      "cell_type": "markdown",
      "source": [
        "###Confusion matrix"
      ],
      "metadata": {
        "id": "wLThZudalpl_"
      }
    },
    {
      "cell_type": "code",
      "source": [
        "cf_matrix = confusion_matrix(y_test, pred)\n",
        "print(cf_matrix)"
      ],
      "metadata": {
        "colab": {
          "base_uri": "https://localhost:8080/"
        },
        "id": "qIiNUgcmZhDq",
        "outputId": "690ea947-39b3-4a0d-ba50-f2395a907c00"
      },
      "execution_count": 153,
      "outputs": [
        {
          "output_type": "stream",
          "name": "stdout",
          "text": [
            "[[ 959    0    3    2    0    3   10    1    2    0]\n",
            " [   0 1111    2    2    1    2    4    2   11    0]\n",
            " [   8    5  949   14    9    1   12    9   22    3]\n",
            " [   2    0   18  933    0   17    3   10   19    8]\n",
            " [   1    3    4    1  926    0   11    2    7   27]\n",
            " [   8    2    8   27    2  794   17    4   24    6]\n",
            " [   9    3    4    1   10    7  919    1    4    0]\n",
            " [   2   10   28    7    6    0    0  942    2   31]\n",
            " [   6    6    5   20    7   14   13    6  892    5]\n",
            " [  10    7    1   14   31    6    1    9    4  926]]\n"
          ]
        }
      ]
    },
    {
      "cell_type": "code",
      "source": [
        "plt.figure(figsize = (15,10))\n",
        "sns.heatmap(cf_matrix, annot=True)"
      ],
      "metadata": {
        "colab": {
          "base_uri": "https://localhost:8080/",
          "height": 610
        },
        "id": "SheQq4OFiPt8",
        "outputId": "57036510-f349-4519-8b63-f82539563122"
      },
      "execution_count": 154,
      "outputs": [
        {
          "output_type": "execute_result",
          "data": {
            "text/plain": [
              "<matplotlib.axes._subplots.AxesSubplot at 0x7fed66ff4d10>"
            ]
          },
          "metadata": {},
          "execution_count": 154
        },
        {
          "output_type": "display_data",
          "data": {
            "text/plain": [
              "<Figure size 1080x720 with 2 Axes>"
            ],
            "image/png": "[encoded data removed]"
          },
          "metadata": {
            "needs_background": "light"
          }
        }
      ]
    }
  ]
}