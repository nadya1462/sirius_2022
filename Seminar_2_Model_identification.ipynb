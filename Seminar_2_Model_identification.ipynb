{
  "cells": [
    {
      "cell_type": "markdown",
      "metadata": {
        "id": "view-in-github",
        "colab_type": "text"
      },
      "source": [
        "<a href=\"https://colab.research.google.com/github/nadya1462/sirius_2022/blob/main/Seminar_2_Model_identification.ipynb\" target=\"_parent\"><img src=\"https://colab.research.google.com/assets/colab-badge.svg\" alt=\"Open In Colab\"/></a>"
      ]
    },
    {
      "cell_type": "code",
      "source": [
        "!pip install brian2\n",
        "!pip install --upgrade numpy\n",
        "!pip install --upgrade matplotlib"
      ],
      "metadata": {
        "id": "xeArfJH-i5h4"
      },
      "id": "xeArfJH-i5h4",
      "execution_count": null,
      "outputs": []
    },
    {
      "cell_type": "code",
      "source": [
        "import matplotlib.pyplot as plt\n",
        "import numpy as np\n",
        "import brian2 as b2"
      ],
      "metadata": {
        "id": "-ODzR8R12ReT"
      },
      "id": "-ODzR8R12ReT",
      "execution_count": 1,
      "outputs": []
    },
    {
      "cell_type": "markdown",
      "id": "258705b6",
      "metadata": {
        "deletable": true,
        "editable": true,
        "id": "258705b6"
      },
      "source": [
        "# Model identification\n",
        "## Overview\n",
        "Here we will learn how to fit a simplified neuron model to experimental data or to a biophysical model\n",
        "\n",
        "## Plan\n",
        "* Generalized Integrate and Fire models\n",
        "* Model fitting procedure\n",
        "\n",
        "## References\n",
        "\n",
        "Exponential Integrate-and-Fire \n",
        "https://neuronaldynamics.epfl.ch/online/Ch5.S2.html\n",
        "\n",
        "Quadratic Integrate and Fire \n",
        "https://neuronaldynamics.epfl.ch/online/Ch5.S3.html\n",
        "\n",
        "Naud, R., Marcille, N., Clopath, C., & Gerstner, W. (2008). Firing patterns in the adaptive exponential integrate-and-fire model. Biological cybernetics, 99(4), 335-347"
      ]
    },
    {
      "cell_type": "markdown",
      "id": "9946b5ab",
      "metadata": {
        "deletable": true,
        "editable": true,
        "id": "9946b5ab"
      },
      "source": [
        "### Generalized Integrate and Fire (GLIF)\n",
        "Basic I&F model is extended in two ways:\n",
        "\n",
        "1. Nonlinear function in the right part of the membrane potential equation\n",
        "2. Second \"adaptation\" variable which reflects the memory of the membrane\n",
        "\n",
        "#### Leaky Integrate and Fire:\n",
        "$$\\tau\\frac{du}{dt} = -(u(t)-u_{rest})+RI(t)\\\\\n",
        "\\text{Spike: } t^f: u(t)\\ge\\theta \\\\\n",
        "u:=u_{reset}\n",
        "$$\n",
        "where $u_{rest}$ - resting potential, $\\theta$ - spike initiating threshold, $u_{reset}$ - afterspike reset potential\n",
        "\n",
        "#### Nonlinear Integrate and Fire:\n",
        "$$\n",
        "\\tau\\frac{du}{dt} = f(u)+R(u)I(t) \\\\\n",
        "\\text{Spike: } t^f: u(t)\\ge\\theta \\\\\n",
        "u:=u_{reset}\n",
        "$$\n",
        "\n",
        "\n",
        "The common used are quadratic and exponential I&F."
      ]
    },
    {
      "cell_type": "markdown",
      "id": "1413edd1",
      "metadata": {
        "deletable": true,
        "editable": true,
        "id": "1413edd1"
      },
      "source": [
        "### Exponential Integrate and Fire\n",
        "$$\n",
        "\\tau\\frac{du}{dt} = -(u-u_{rest})+ \\Delta_T\\exp(\\frac{u-\\theta_{rh}}{\\Delta_T}) +RI(t) \\\\\n",
        "\\text{Spike: } t^f: u(t)\\ge\\theta \\\\\n",
        "u:=u_{reset}\n",
        "$$\n",
        "\n",
        "In the Exp I&F there are two additional parameters. $\\theta_{rh}$ is the rheobase potential, after this point the membrane potential $u(t)$ inevitably rises to the threshold and initiates a spike. $\\Delta_T$ - the \"sharpness\" (\"gentleness\") of the exponent.\n",
        "\n",
        "Below we explore the behavior of exponential I&F"
      ]
    },
    {
      "cell_type": "code",
      "source": [
        "def plot_v_spikes(v_mon, s_mon, t_bounds=None, labels=None):\n",
        "    for i in range(len(v_mon.v)):\n",
        "        if labels:\n",
        "            plt.plot(v_mon.t/b2.ms, v_mon.v[i]/b2.mV, label=labels[i])\n",
        "        else:\n",
        "            plt.plot(v_mon.t/b2.ms, v_mon.v[i]/b2.mV) #, label=f'N{i}')\n",
        "    for t in s_mon.t:\n",
        "        plt.axvline(t/b2.ms, ls='--', c='k', lw=1)\n",
        "    if t_bounds:\n",
        "        plt.xlim(t_bounds)\n",
        "    plt.xlabel('Time (ms)')\n",
        "    plt.ylabel('Membrane voltage (mV)')\n",
        "    plt.legend(loc='lower left')"
      ],
      "metadata": {
        "id": "mWsZu2sA2ZFQ"
      },
      "id": "mWsZu2sA2ZFQ",
      "execution_count": 2,
      "outputs": []
    },
    {
      "cell_type": "code",
      "execution_count": 6,
      "id": "a16af69a",
      "metadata": {
        "deletable": true,
        "editable": true,
        "colab": {
          "base_uri": "https://localhost:8080/",
          "height": 297
        },
        "id": "a16af69a",
        "outputId": "bb422f92-c491-4c1c-a436-81f72dec8a60"
      },
      "outputs": [
        {
          "output_type": "execute_result",
          "data": {
            "text/plain": [
              "<matplotlib.lines.Line2D at 0x7ff6faba1350>"
            ]
          },
          "metadata": {},
          "execution_count": 6
        },
        {
          "output_type": "display_data",
          "data": {
            "text/plain": [
              "<Figure size 432x288 with 1 Axes>"
            ],
            "image/png": "[encoded data removed]"
          },
          "metadata": {
            "needs_background": "light"
          }
        }
      ],
      "source": [
        "b2.start_scope()\n",
        "\n",
        "tau = 10*b2.ms \n",
        "v_rest = -65 * b2.mvolt\n",
        "v0 = -65 * b2.mvolt\n",
        "v_th = -35 * b2.mvolt\n",
        "v_reset = -80 * b2.mvolt\n",
        "R = 10 * b2.Mohm\n",
        "I = 4 * b2.namp\n",
        "T = 50 * b2.ms\n",
        "\n",
        "eqs_ex = '''\n",
        "dv/dt = (v_rest-v)/tau + w_ex*DT*exp((v-v_rh)/DT)/tau + R*I/tau : volt\n",
        "w_ex : 1\n",
        "DT : volt\n",
        "v_rh : volt\n",
        "'''\n",
        "G = b2.NeuronGroup(3, eqs_ex,\n",
        "                   threshold = 'v > v_th', \n",
        "                   reset = 'v = v_reset', \n",
        "                   method = 'euler')\n",
        "\n",
        "# 1st: LIF, 2nd: ExIF + gentleness = 1, 3rd: ExIF + gentleness = 5\n",
        "G.w_ex = [0, 1, 1]\n",
        "G.v_rh = [0*b2.mvolt, -40*b2.mvolt, -45*b2.mvolt]\n",
        "G.DT = [1*b2.mvolt, 1*b2.mvolt, 5*b2.mvolt]\n",
        "G.v = v0\n",
        "\n",
        "v_mon = b2.StateMonitor(G, 'v', record = True)\n",
        "spikemon = b2.SpikeMonitor(G)\n",
        "\n",
        "b2.run(T)\n",
        "\n",
        "labels = ['LIF', \n",
        "        f'ExIF DT={G.DT[1]/b2.mV}mV, Vrh={G.v_rh[1]/b2.mV}mV', \n",
        "        f'ExIF DT={G.DT[2]/b2.mV}mV, Vrh={G.v_rh[2]/b2.mV}mV']\n",
        "plot_v_spikes(v_mon, spikemon, labels = labels, t_bounds = (0, 15))\n",
        "plt.axhline(G.v_rh[1]/b2.mV, ls='--', c='g', lw=1)\n",
        "plt.axhline(G.v_rh[2]/b2.mV, ls='--', c='g', lw=1)\n",
        "plt.axhline(v_th/b2.mV, ls='--', c='g', lw=1, label='threshold')"
      ]
    },
    {
      "cell_type": "markdown",
      "id": "5e3b1c7d",
      "metadata": {
        "deletable": true,
        "editable": true,
        "id": "5e3b1c7d"
      },
      "source": [
        "### Phase plane analysis \n",
        "1. Inject constant current I\n",
        "2. Plot the $u(t)$ and $du/dt$\n",
        "\n",
        "Here we also add noise to the model. The variable `xi` is like gaussian noise with standart deviation equals 1 and mean equals 0."
      ]
    },
    {
      "cell_type": "code",
      "execution_count": 3,
      "id": "63283772",
      "metadata": {
        "collapsed": true,
        "deletable": true,
        "editable": true,
        "id": "63283772"
      },
      "outputs": [],
      "source": [
        "def phase_var_grad(v_mon):\n",
        "    dv_dt = np.gradient(v_mon.v[0]/b2.mV, v_mon.t/b2.ms)*b2.mV/b2.ms\n",
        "    return v_mon.v[0], dv_dt\n",
        "\n",
        "def plot_phaseplane(v_mon, outlier_thres=200*b2.mV/b2.ms):\n",
        "    v, dv_dt = phase_var_grad(v_mon)\n",
        "    non_outlier = np.abs(dv_dt) < outlier_thres\n",
        "    plt.plot(v[non_outlier]/b2.mV, dv_dt[non_outlier]/b2.mV*b2.ms, '.')\n",
        "    plt.xlabel('v (mV)')\n",
        "    plt.ylabel('dv/dt (mV/ms)')\n",
        " "
      ]
    },
    {
      "cell_type": "code",
      "execution_count": 4,
      "id": "26149454",
      "metadata": {
        "deletable": true,
        "editable": true,
        "colab": {
          "base_uri": "https://localhost:8080/",
          "height": 424
        },
        "id": "26149454",
        "outputId": "bc302056-e4f2-4e57-8571-afe971358107"
      },
      "outputs": [
        {
          "output_type": "stream",
          "name": "stderr",
          "text": [
            "No artists with labels found to put in legend.  Note that artists whose label start with an underscore are ignored when legend() is called with no argument.\n"
          ]
        },
        {
          "output_type": "execute_result",
          "data": {
            "text/plain": [
              "[<matplotlib.lines.Line2D at 0x7f9d1ca79490>]"
            ]
          },
          "metadata": {},
          "execution_count": 4
        },
        {
          "output_type": "display_data",
          "data": {
            "text/plain": [
              "<Figure size 720x432 with 2 Axes>"
            ],
            "image/png": "[encoded data removed]"
          },
          "metadata": {
            "needs_background": "light"
          }
        }
      ],
      "source": [
        "def ExIF(v, I, v_rest, R, tau, v_rh, DT):\n",
        "    return (v_rest-v)/tau + DT*np.exp((v-v_rh)/DT)/tau + R*I/tau\n",
        "\n",
        "b2.start_scope()\n",
        "\n",
        "tau = 10*b2.ms \n",
        "v_rest = -65 * b2.mV \n",
        "v0 = -65 * b2.mV\n",
        "v_th = -35 * b2.mV\n",
        "v_reset = -80 * b2.mV\n",
        "R = 10 * b2.Mohm\n",
        "I = 3 * b2.namp\n",
        "T = 50 * b2.ms\n",
        "v_rh = -45*b2.mvolt\n",
        "DT = 2*b2.mvolt\n",
        "sigma = 1*b2.mV\n",
        "\n",
        "eqs_ex = '''\n",
        "dv/dt = (v_rest-v)/tau + DT*exp((v-v_rh)/DT)/tau + R*I/tau + sigma*xi/sqrt(tau) : volt\n",
        "'''\n",
        "G = b2.NeuronGroup(1, eqs_ex,\n",
        "                   threshold = 'v > v_th', \n",
        "                   reset = 'v = v_reset', \n",
        "                   method = 'euler')\n",
        "G.v = v0\n",
        "\n",
        "v_mon = b2.StateMonitor(G, 'v', record = True)\n",
        "spikemon = b2.SpikeMonitor(G)\n",
        "\n",
        "# b2.defaultclock.dt = 0.05*b2.ms\n",
        "\n",
        "b2.run(T)\n",
        "\n",
        "\n",
        "plt.figure(figsize=(10,6))\n",
        "\n",
        "plt.subplot(211)\n",
        "plot_v_spikes(v_mon, spikemon)\n",
        "\n",
        "plt.subplot(212)\n",
        "plot_phaseplane(v_mon)\n",
        "\n",
        "v_range = np.linspace(v_reset, v_th)\n",
        "I_arr = np.ones(v_range.shape) * I\n",
        "dv_dt_model = ExIF(v_range, I_arr, v_rest, R, tau, v_rh, DT)\n",
        "plt.plot(v_range/b2.mV, dv_dt_model/b2.mV*b2.ms, 'r')"
      ]
    },
    {
      "cell_type": "markdown",
      "id": "08984cde",
      "metadata": {
        "collapsed": true,
        "deletable": true,
        "editable": true,
        "id": "08984cde"
      },
      "source": [
        "### Model fitting\n",
        "Here we fit our model to the curve observed in the phase plane. "
      ]
    },
    {
      "cell_type": "code",
      "source": [
        "def err(x, v_mon, I, outlier_thres=200*b2.mV/b2.ms):\n",
        "    '''\n",
        "    x is an array x=[v_rest, R, tau, v_rh, DT] where each component is dimensionless\n",
        "    I is the input current, should be the same size as v_mon.v[0]\n",
        "    '''\n",
        "    v, dv_dt = phase_var_grad(v_mon)    \n",
        "    dvdt_model = ExIF(v, I, x[0]*b2.mV, x[1]*b2.Mohm, x[2]*b2.ms, x[3]*b2.mV, x[4]*b2.mV)\n",
        "    non_outliers = abs(dv_dt) < outlier_thres\n",
        "    return np.sum(np.square(dvdt_model[non_outliers]/b2.mV*b2.ms - dv_dt[non_outliers]/b2.mV*b2.ms))"
      ],
      "metadata": {
        "id": "OTGEBsa8O7ha"
      },
      "id": "OTGEBsa8O7ha",
      "execution_count": 5,
      "outputs": []
    },
    {
      "cell_type": "code",
      "execution_count": 9,
      "id": "69df7568",
      "metadata": {
        "deletable": true,
        "editable": true,
        "colab": {
          "base_uri": "https://localhost:8080/",
          "height": 497
        },
        "id": "69df7568",
        "outputId": "9da0d1cf-b445-4fcf-fc32-678d06d1995e"
      },
      "outputs": [
        {
          "output_type": "stream",
          "name": "stderr",
          "text": [
            "WARNING    /usr/local/lib/python3.7/dist-packages/ipykernel_launcher.py:9: RuntimeWarning: overflow encountered in square\n",
            "  if __name__ == '__main__':\n",
            " [py.warnings]\n",
            "WARNING    /usr/local/lib/python3.7/dist-packages/ipykernel_launcher.py:2: RuntimeWarning: overflow encountered in exp\n",
            "  \n",
            " [py.warnings]\n"
          ]
        },
        {
          "output_type": "stream",
          "name": "stdout",
          "text": [
            " \n",
            "    v_rest=-74.51 mV,\n",
            "    R= 13.06 Mohm,\n",
            "    tau= 10.58 ms,\n",
            "    v_rh=-45.23 mV,\n",
            "    DT= 2.158 mV,\n",
            "    Error=255.04219319468217\n",
            "\n"
          ]
        },
        {
          "output_type": "execute_result",
          "data": {
            "text/plain": [
              "[<matplotlib.lines.Line2D at 0x7f9d11353210>]"
            ]
          },
          "metadata": {},
          "execution_count": 9
        },
        {
          "output_type": "display_data",
          "data": {
            "text/plain": [
              "<Figure size 720x216 with 1 Axes>"
            ],
            "image/png": "[encoded data removed]"
          },
          "metadata": {
            "needs_background": "light"
          }
        }
      ],
      "source": [
        "from scipy import optimize as opt\n",
        "\n",
        "bounds = [(-120,-20), #v_rest\n",
        "         (0.5, 30), #R\n",
        "         (0.5, 100), #tau\n",
        "         (-60, -10), #v_rh\n",
        "         (0.01, 30)] #DT\n",
        "\n",
        "res_ev = opt.differential_evolution(err, bounds, (v_mon, I), popsize=100, maxiter=5000, polish=True)\n",
        "res = opt.minimize(err, res_ev.x, bounds=bounds, args=(v_mon, I), tol=0.0001)\n",
        "\n",
        "print(f\"\"\" \n",
        "    v_rest={res.x[0]:6.4} mV,\n",
        "    R={res.x[1]:6.4} Mohm,\n",
        "    tau={res.x[2]:6.4} ms,\n",
        "    v_rh={res.x[3]:6.4} mV,\n",
        "    DT={res.x[4]:6.4} mV,\n",
        "    Error={res.fun}\n",
        "\"\"\")\n",
        "\n",
        "v_range = np.linspace(v_reset, v_th)\n",
        "I_arr = np.ones(v_range.shape)*I\n",
        "dv_dt_approx = ExIF(v_range, I, \n",
        "                  res.x[0]*b2.mV, \n",
        "                  res.x[1]*b2.Mohm, \n",
        "                  res.x[2]*b2.ms, \n",
        "                  res.x[3]*b2.mV, \n",
        "                  res.x[4]*b2.mV)\n",
        "\n",
        "plt.figure(figsize=(10,3))\n",
        "plot_phaseplane(v_mon)\n",
        "plt.plot(v_range/b2.mV, dv_dt_model/b2.mV*b2.ms, 'r')\n",
        "plt.plot(v_range/b2.mV, dv_dt_approx/b2.mV*b2.ms, 'g')\n"
      ]
    },
    {
      "cell_type": "markdown",
      "source": [
        "## Quadratic Integrate and Fire"
      ],
      "metadata": {
        "id": "DM3LcXB37nRi"
      },
      "id": "DM3LcXB37nRi"
    },
    {
      "cell_type": "markdown",
      "source": [
        "It's an exercise))) Do the same actions for this model.\n",
        "\n",
        "Theory: https://neuronaldynamics.epfl.ch/online/Ch5.S3.html\n",
        "\n",
        "Brin2 implementation: https://brian2.readthedocs.io/en/stable/introduction/brian1_to_2/library.html"
      ],
      "metadata": {
        "id": "cN3-MERF7xrh"
      },
      "id": "cN3-MERF7xrh"
    },
    {
      "cell_type": "markdown",
      "source": [
        "\n",
        "## Homework\n",
        "1. The fitting procedure doesn't provide the $u_{th}$ and $u_{reset}$. How we can estimate them?\n",
        "2. Here we used the phaseplane to fit the model. Imagine we cannot measure the membrane potential, but only observe spikes. Fit the simple LIF model to the data using two features: the time to the first spike and average spike frequency."
      ],
      "metadata": {
        "id": "m6ZvikRd61XP"
      },
      "id": "m6ZvikRd61XP"
    },
    {
      "cell_type": "code",
      "source": [
        ""
      ],
      "metadata": {
        "id": "UbkQZUB161xx"
      },
      "id": "UbkQZUB161xx",
      "execution_count": null,
      "outputs": []
    }
  ],
  "metadata": {
    "kernelspec": {
      "display_name": "Python 3",
      "language": "python",
      "name": "python3"
    },
    "language_info": {
      "codemirror_mode": {
        "name": "ipython",
        "version": 3
      },
      "file_extension": ".py",
      "mimetype": "text/x-python",
      "name": "python",
      "nbconvert_exporter": "python",
      "pygments_lexer": "ipython3",
      "version": "3.6.13"
    },
    "colab": {
      "name": "Seminar 2. Model identification.ipynb",
      "provenance": [],
      "collapsed_sections": [],
      "include_colab_link": true
    }
  },
  "nbformat": 4,
  "nbformat_minor": 5
}